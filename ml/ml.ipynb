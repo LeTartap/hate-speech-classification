{
 "cells": [
  {
   "cell_type": "code",
   "execution_count": 2,
   "metadata": {},
   "outputs": [],
   "source": [
    "import pandas as pd\n",
    "import numpy as np\n",
    "import os\n",
    "import nltk\n",
    "from nltk.corpus import stopwords\n",
    "from nltk.tokenize import word_tokenize\n",
    "import string\n",
    "import re\n",
    "from gensim.models import Word2Vec\n",
    "from sklearn.model_selection import train_test_split, cross_val_score\n",
    "from sklearn.ensemble import RandomForestClassifier\n",
    "from sklearn.metrics import classification_report, accuracy_score\n",
    "\n",
    "\n",
    "folder_path = \"..\\\\data\"\n",
    "names = [\"Facebook\", \"Reddit\", \"Twitter\", \"Youtube\"]\n",
    "dfs = {}\n",
    "\n",
    "for n in names:\n",
    "    dfs[n] = pd.read_csv(os.path.join(folder_path, f\"cleaned_{n.lower()}.csv\"))\n",
    "\n"
   ]
  },
  {
   "cell_type": "code",
   "execution_count": 3,
   "metadata": {},
   "outputs": [
    {
     "name": "stderr",
     "output_type": "stream",
     "text": [
      "[nltk_data] Downloading package punkt to\n",
      "[nltk_data]     C:\\Users\\vital\\AppData\\Roaming\\nltk_data...\n",
      "[nltk_data]   Package punkt is already up-to-date!\n",
      "[nltk_data] Downloading package stopwords to\n",
      "[nltk_data]     C:\\Users\\vital\\AppData\\Roaming\\nltk_data...\n",
      "[nltk_data]   Package stopwords is already up-to-date!\n"
     ]
    }
   ],
   "source": [
    "nltk.download('punkt')\n",
    "nltk.download('stopwords')\n",
    "\n",
    "stop_words = set(stopwords.words('english'))"
   ]
  },
  {
   "cell_type": "code",
   "execution_count": 4,
   "metadata": {},
   "outputs": [],
   "source": [
    "def preprocess_text(text):\n",
    "    # Convert to lowercase\n",
    "    text = text.lower()\n",
    "    # Remove punctuation\n",
    "    text = text.translate(str.maketrans('', '', string.punctuation))\n",
    "    # Remove numbers\n",
    "    text = re.sub(r'\\d+', '', text)\n",
    "    # Tokenize\n",
    "    tokens = word_tokenize(text)\n",
    "    # Remove stop words\n",
    "    tokens = [word for word in tokens if word not in stop_words]\n",
    "    return tokens\n",
    "\n",
    "for name in names:\n",
    "    dfs[name]['tokens'] = dfs[name]['text'].apply(preprocess_text)"
   ]
  },
  {
   "cell_type": "code",
   "execution_count": null,
   "metadata": {},
   "outputs": [],
   "source": [
    "#dO DATA cleaning \n",
    "#search: data cleaning in text mining to clean twitter data\n",
    "# after data cleaning i need to check the data"
   ]
  },
  {
   "cell_type": "code",
   "execution_count": 5,
   "metadata": {},
   "outputs": [],
   "source": [
    "word2vec_models = {}\n",
    "for name in names:\n",
    "    sentences = dfs[name]['tokens'].tolist()\n",
    "    model = Word2Vec(sentences, vector_size=100, window=5, min_count=1, workers=4)\n",
    "    word2vec_models[name] = model\n",
    "\n",
    "def get_sentence_embedding(tokens, model):\n",
    "    # Get the embeddings for each token\n",
    "    embeddings = [model.wv[word] for word in tokens if word in model.wv]\n",
    "    # Average the embeddings to get the sentence embedding\n",
    "    if embeddings:\n",
    "        return np.mean(embeddings, axis=0)\n",
    "    else:\n",
    "        return np.zeros(model.vector_size)\n",
    "\n",
    "for name in names:\n",
    "    dfs[name]['embedding'] = dfs[name]['tokens'].apply(lambda x: get_sentence_embedding(x, word2vec_models[name]))\n"
   ]
  },
  {
   "cell_type": "code",
   "execution_count": 6,
   "metadata": {},
   "outputs": [
    {
     "name": "stdout",
     "output_type": "stream",
     "text": [
      "          precision    recall  f1-score  cv_mean_score  cv_std_score\n",
      "Facebook   0.706187  0.686667  0.582190       0.692250      0.004358\n",
      "Reddit     0.746937  0.791888  0.722144       0.785472      0.003001\n",
      "Twitter    0.893175  0.897519  0.894696       0.897188      0.011453\n",
      "Youtube    0.740678  0.768992  0.708332       0.728037      0.012684\n"
     ]
    }
   ],
   "source": [
    "results = {}\n",
    "for name in names:\n",
    "    X = np.vstack(dfs[name]['embedding'].values)\n",
    "    y = dfs[name]['label']\n",
    "    \n",
    "    # Split data\n",
    "    X_train, X_test, y_train, y_test = train_test_split(X, y, test_size=0.2, random_state=42)\n",
    "    \n",
    "    # Train classifier\n",
    "    classifier = RandomForestClassifier(n_estimators=100, random_state=42)\n",
    "    classifier.fit(X_train, y_train)\n",
    "    \n",
    "    # Evaluate classifier\n",
    "    y_pred = classifier.predict(X_test)\n",
    "    report = classification_report(y_test, y_pred, output_dict=True)\n",
    "    accuracy = accuracy_score(y_test, y_pred)\n",
    "    \n",
    "    results[name] = {\n",
    "        'classification_report': report,\n",
    "        'accuracy': accuracy\n",
    "    }\n",
    "\n",
    "# Convert results to DataFrame for display\n",
    "results_df = pd.DataFrame({\n",
    "    name: {\n",
    "        'accuracy': results[name]['accuracy'],\n",
    "        'precision': results[name]['classification_report']['weighted avg']['precision'],\n",
    "        'recall': results[name]['classification_report']['weighted avg']['recall'],\n",
    "        'f1-score': results[name]['classification_report']['weighted avg']['f1-score']\n",
    "    }\n",
    "    for name in names\n",
    "}).T\n",
    "\n",
    "# Display the results DataFrame\n",
    "print(results_df)"
   ]
  },
  {
   "cell_type": "code",
   "execution_count": null,
   "metadata": {},
   "outputs": [],
   "source": []
  }
 ],
 "metadata": {
  "kernelspec": {
   "display_name": "data-science",
   "language": "python",
   "name": "python3"
  },
  "language_info": {
   "codemirror_mode": {
    "name": "ipython",
    "version": 3
   },
   "file_extension": ".py",
   "mimetype": "text/x-python",
   "name": "python",
   "nbconvert_exporter": "python",
   "pygments_lexer": "ipython3",
   "version": "3.10.14"
  }
 },
 "nbformat": 4,
 "nbformat_minor": 2
}
